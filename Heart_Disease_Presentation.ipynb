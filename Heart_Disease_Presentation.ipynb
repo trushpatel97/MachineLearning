{
 "cells": [
  {
   "cell_type": "markdown",
   "metadata": {},
   "source": [
    "# Heart Disease Detection"
   ]
  },
  {
   "cell_type": "markdown",
   "metadata": {},
   "source": [
    "## Steps:\n",
    "* Step 1: Import common libraries\n",
    "* Step 2: Getting the data\n",
    "* Step 3: Picking the right estimator (Model)\n",
    "* Step 4: Fit the data and make a prediction\n",
    "* Step 5: Evaluate the model\n",
    "* Step 6: Improving the model\n",
    "* Step 7: Presenting results visually\n",
    "* Step 8: Make observations\n",
    "* Step 9: Recreate with the best model & hyperturning parameters\n",
    "* Step 10: Save and load the model"
   ]
  },
  {
   "cell_type": "markdown",
   "metadata": {},
   "source": [
    "## Step 1: Import common libraries"
   ]
  },
  {
   "cell_type": "code",
   "execution_count": 23,
   "metadata": {},
   "outputs": [],
   "source": [
    "import pandas as pd\n",
    "import numpy as np\n",
    "import matplotlib.pyplot as plt\n",
    "%matplotlib inline"
   ]
  },
  {
   "cell_type": "markdown",
   "metadata": {},
   "source": [
    "\n",
    "## Step 2: Getting the Data"
   ]
  },
  {
   "cell_type": "markdown",
   "metadata": {},
   "source": [
    "###### First we want to import the CSV from wherever it is located "
   ]
  },
  {
   "cell_type": "code",
   "execution_count": 24,
   "metadata": {},
   "outputs": [],
   "source": [
    "heart_data = pd.read_csv(\"OwnProject/heart.csv\")"
   ]
  },
  {
   "cell_type": "markdown",
   "metadata": {},
   "source": [
    "\n",
    "###### Then we will examine the data we will be working with"
   ]
  },
  {
   "cell_type": "code",
   "execution_count": 25,
   "metadata": {},
   "outputs": [
    {
     "data": {
      "text/html": [
       "<div>\n",
       "<style scoped>\n",
       "    .dataframe tbody tr th:only-of-type {\n",
       "        vertical-align: middle;\n",
       "    }\n",
       "\n",
       "    .dataframe tbody tr th {\n",
       "        vertical-align: top;\n",
       "    }\n",
       "\n",
       "    .dataframe thead th {\n",
       "        text-align: right;\n",
       "    }\n",
       "</style>\n",
       "<table border=\"1\" class=\"dataframe\">\n",
       "  <thead>\n",
       "    <tr style=\"text-align: right;\">\n",
       "      <th></th>\n",
       "      <th>age</th>\n",
       "      <th>sex</th>\n",
       "      <th>cp</th>\n",
       "      <th>trestbps</th>\n",
       "      <th>chol</th>\n",
       "      <th>fbs</th>\n",
       "      <th>restecg</th>\n",
       "      <th>thalach</th>\n",
       "      <th>exang</th>\n",
       "      <th>oldpeak</th>\n",
       "      <th>slope</th>\n",
       "      <th>ca</th>\n",
       "      <th>thal</th>\n",
       "      <th>target</th>\n",
       "    </tr>\n",
       "  </thead>\n",
       "  <tbody>\n",
       "    <tr>\n",
       "      <th>0</th>\n",
       "      <td>63</td>\n",
       "      <td>1</td>\n",
       "      <td>3</td>\n",
       "      <td>145</td>\n",
       "      <td>233</td>\n",
       "      <td>1</td>\n",
       "      <td>0</td>\n",
       "      <td>150</td>\n",
       "      <td>0</td>\n",
       "      <td>2.3</td>\n",
       "      <td>0</td>\n",
       "      <td>0</td>\n",
       "      <td>1</td>\n",
       "      <td>1</td>\n",
       "    </tr>\n",
       "    <tr>\n",
       "      <th>1</th>\n",
       "      <td>37</td>\n",
       "      <td>1</td>\n",
       "      <td>2</td>\n",
       "      <td>130</td>\n",
       "      <td>250</td>\n",
       "      <td>0</td>\n",
       "      <td>1</td>\n",
       "      <td>187</td>\n",
       "      <td>0</td>\n",
       "      <td>3.5</td>\n",
       "      <td>0</td>\n",
       "      <td>0</td>\n",
       "      <td>2</td>\n",
       "      <td>1</td>\n",
       "    </tr>\n",
       "    <tr>\n",
       "      <th>2</th>\n",
       "      <td>41</td>\n",
       "      <td>0</td>\n",
       "      <td>1</td>\n",
       "      <td>130</td>\n",
       "      <td>204</td>\n",
       "      <td>0</td>\n",
       "      <td>0</td>\n",
       "      <td>172</td>\n",
       "      <td>0</td>\n",
       "      <td>1.4</td>\n",
       "      <td>2</td>\n",
       "      <td>0</td>\n",
       "      <td>2</td>\n",
       "      <td>1</td>\n",
       "    </tr>\n",
       "    <tr>\n",
       "      <th>3</th>\n",
       "      <td>56</td>\n",
       "      <td>1</td>\n",
       "      <td>1</td>\n",
       "      <td>120</td>\n",
       "      <td>236</td>\n",
       "      <td>0</td>\n",
       "      <td>1</td>\n",
       "      <td>178</td>\n",
       "      <td>0</td>\n",
       "      <td>0.8</td>\n",
       "      <td>2</td>\n",
       "      <td>0</td>\n",
       "      <td>2</td>\n",
       "      <td>1</td>\n",
       "    </tr>\n",
       "    <tr>\n",
       "      <th>4</th>\n",
       "      <td>57</td>\n",
       "      <td>0</td>\n",
       "      <td>0</td>\n",
       "      <td>120</td>\n",
       "      <td>354</td>\n",
       "      <td>0</td>\n",
       "      <td>1</td>\n",
       "      <td>163</td>\n",
       "      <td>1</td>\n",
       "      <td>0.6</td>\n",
       "      <td>2</td>\n",
       "      <td>0</td>\n",
       "      <td>2</td>\n",
       "      <td>1</td>\n",
       "    </tr>\n",
       "    <tr>\n",
       "      <th>...</th>\n",
       "      <td>...</td>\n",
       "      <td>...</td>\n",
       "      <td>...</td>\n",
       "      <td>...</td>\n",
       "      <td>...</td>\n",
       "      <td>...</td>\n",
       "      <td>...</td>\n",
       "      <td>...</td>\n",
       "      <td>...</td>\n",
       "      <td>...</td>\n",
       "      <td>...</td>\n",
       "      <td>...</td>\n",
       "      <td>...</td>\n",
       "      <td>...</td>\n",
       "    </tr>\n",
       "    <tr>\n",
       "      <th>298</th>\n",
       "      <td>57</td>\n",
       "      <td>0</td>\n",
       "      <td>0</td>\n",
       "      <td>140</td>\n",
       "      <td>241</td>\n",
       "      <td>0</td>\n",
       "      <td>1</td>\n",
       "      <td>123</td>\n",
       "      <td>1</td>\n",
       "      <td>0.2</td>\n",
       "      <td>1</td>\n",
       "      <td>0</td>\n",
       "      <td>3</td>\n",
       "      <td>0</td>\n",
       "    </tr>\n",
       "    <tr>\n",
       "      <th>299</th>\n",
       "      <td>45</td>\n",
       "      <td>1</td>\n",
       "      <td>3</td>\n",
       "      <td>110</td>\n",
       "      <td>264</td>\n",
       "      <td>0</td>\n",
       "      <td>1</td>\n",
       "      <td>132</td>\n",
       "      <td>0</td>\n",
       "      <td>1.2</td>\n",
       "      <td>1</td>\n",
       "      <td>0</td>\n",
       "      <td>3</td>\n",
       "      <td>0</td>\n",
       "    </tr>\n",
       "    <tr>\n",
       "      <th>300</th>\n",
       "      <td>68</td>\n",
       "      <td>1</td>\n",
       "      <td>0</td>\n",
       "      <td>144</td>\n",
       "      <td>193</td>\n",
       "      <td>1</td>\n",
       "      <td>1</td>\n",
       "      <td>141</td>\n",
       "      <td>0</td>\n",
       "      <td>3.4</td>\n",
       "      <td>1</td>\n",
       "      <td>2</td>\n",
       "      <td>3</td>\n",
       "      <td>0</td>\n",
       "    </tr>\n",
       "    <tr>\n",
       "      <th>301</th>\n",
       "      <td>57</td>\n",
       "      <td>1</td>\n",
       "      <td>0</td>\n",
       "      <td>130</td>\n",
       "      <td>131</td>\n",
       "      <td>0</td>\n",
       "      <td>1</td>\n",
       "      <td>115</td>\n",
       "      <td>1</td>\n",
       "      <td>1.2</td>\n",
       "      <td>1</td>\n",
       "      <td>1</td>\n",
       "      <td>3</td>\n",
       "      <td>0</td>\n",
       "    </tr>\n",
       "    <tr>\n",
       "      <th>302</th>\n",
       "      <td>57</td>\n",
       "      <td>0</td>\n",
       "      <td>1</td>\n",
       "      <td>130</td>\n",
       "      <td>236</td>\n",
       "      <td>0</td>\n",
       "      <td>0</td>\n",
       "      <td>174</td>\n",
       "      <td>0</td>\n",
       "      <td>0.0</td>\n",
       "      <td>1</td>\n",
       "      <td>1</td>\n",
       "      <td>2</td>\n",
       "      <td>0</td>\n",
       "    </tr>\n",
       "  </tbody>\n",
       "</table>\n",
       "<p>303 rows × 14 columns</p>\n",
       "</div>"
      ],
      "text/plain": [
       "     age  sex  cp  trestbps  chol  fbs  restecg  thalach  exang  oldpeak  \\\n",
       "0     63    1   3       145   233    1        0      150      0      2.3   \n",
       "1     37    1   2       130   250    0        1      187      0      3.5   \n",
       "2     41    0   1       130   204    0        0      172      0      1.4   \n",
       "3     56    1   1       120   236    0        1      178      0      0.8   \n",
       "4     57    0   0       120   354    0        1      163      1      0.6   \n",
       "..   ...  ...  ..       ...   ...  ...      ...      ...    ...      ...   \n",
       "298   57    0   0       140   241    0        1      123      1      0.2   \n",
       "299   45    1   3       110   264    0        1      132      0      1.2   \n",
       "300   68    1   0       144   193    1        1      141      0      3.4   \n",
       "301   57    1   0       130   131    0        1      115      1      1.2   \n",
       "302   57    0   1       130   236    0        0      174      0      0.0   \n",
       "\n",
       "     slope  ca  thal  target  \n",
       "0        0   0     1       1  \n",
       "1        0   0     2       1  \n",
       "2        2   0     2       1  \n",
       "3        2   0     2       1  \n",
       "4        2   0     2       1  \n",
       "..     ...  ..   ...     ...  \n",
       "298      1   0     3       0  \n",
       "299      1   0     3       0  \n",
       "300      1   2     3       0  \n",
       "301      1   1     3       0  \n",
       "302      1   1     2       0  \n",
       "\n",
       "[303 rows x 14 columns]"
      ]
     },
     "execution_count": 25,
     "metadata": {},
     "output_type": "execute_result"
    }
   ],
   "source": [
    "heart_data"
   ]
  },
  {
   "cell_type": "markdown",
   "metadata": {},
   "source": [
    "\n",
    "###### We want to get rid of the target column as we will be training our model to predict it "
   ]
  },
  {
   "cell_type": "code",
   "execution_count": 26,
   "metadata": {},
   "outputs": [],
   "source": [
    "X = heart_data.drop(columns=\"target\")\n",
    "Y = heart_data[\"target\"]"
   ]
  },
  {
   "cell_type": "code",
   "execution_count": 27,
   "metadata": {},
   "outputs": [
    {
     "data": {
      "text/html": [
       "<div>\n",
       "<style scoped>\n",
       "    .dataframe tbody tr th:only-of-type {\n",
       "        vertical-align: middle;\n",
       "    }\n",
       "\n",
       "    .dataframe tbody tr th {\n",
       "        vertical-align: top;\n",
       "    }\n",
       "\n",
       "    .dataframe thead th {\n",
       "        text-align: right;\n",
       "    }\n",
       "</style>\n",
       "<table border=\"1\" class=\"dataframe\">\n",
       "  <thead>\n",
       "    <tr style=\"text-align: right;\">\n",
       "      <th></th>\n",
       "      <th>age</th>\n",
       "      <th>sex</th>\n",
       "      <th>cp</th>\n",
       "      <th>trestbps</th>\n",
       "      <th>chol</th>\n",
       "      <th>fbs</th>\n",
       "      <th>restecg</th>\n",
       "      <th>thalach</th>\n",
       "      <th>exang</th>\n",
       "      <th>oldpeak</th>\n",
       "      <th>slope</th>\n",
       "      <th>ca</th>\n",
       "      <th>thal</th>\n",
       "    </tr>\n",
       "  </thead>\n",
       "  <tbody>\n",
       "    <tr>\n",
       "      <th>0</th>\n",
       "      <td>63</td>\n",
       "      <td>1</td>\n",
       "      <td>3</td>\n",
       "      <td>145</td>\n",
       "      <td>233</td>\n",
       "      <td>1</td>\n",
       "      <td>0</td>\n",
       "      <td>150</td>\n",
       "      <td>0</td>\n",
       "      <td>2.3</td>\n",
       "      <td>0</td>\n",
       "      <td>0</td>\n",
       "      <td>1</td>\n",
       "    </tr>\n",
       "    <tr>\n",
       "      <th>1</th>\n",
       "      <td>37</td>\n",
       "      <td>1</td>\n",
       "      <td>2</td>\n",
       "      <td>130</td>\n",
       "      <td>250</td>\n",
       "      <td>0</td>\n",
       "      <td>1</td>\n",
       "      <td>187</td>\n",
       "      <td>0</td>\n",
       "      <td>3.5</td>\n",
       "      <td>0</td>\n",
       "      <td>0</td>\n",
       "      <td>2</td>\n",
       "    </tr>\n",
       "    <tr>\n",
       "      <th>2</th>\n",
       "      <td>41</td>\n",
       "      <td>0</td>\n",
       "      <td>1</td>\n",
       "      <td>130</td>\n",
       "      <td>204</td>\n",
       "      <td>0</td>\n",
       "      <td>0</td>\n",
       "      <td>172</td>\n",
       "      <td>0</td>\n",
       "      <td>1.4</td>\n",
       "      <td>2</td>\n",
       "      <td>0</td>\n",
       "      <td>2</td>\n",
       "    </tr>\n",
       "    <tr>\n",
       "      <th>3</th>\n",
       "      <td>56</td>\n",
       "      <td>1</td>\n",
       "      <td>1</td>\n",
       "      <td>120</td>\n",
       "      <td>236</td>\n",
       "      <td>0</td>\n",
       "      <td>1</td>\n",
       "      <td>178</td>\n",
       "      <td>0</td>\n",
       "      <td>0.8</td>\n",
       "      <td>2</td>\n",
       "      <td>0</td>\n",
       "      <td>2</td>\n",
       "    </tr>\n",
       "    <tr>\n",
       "      <th>4</th>\n",
       "      <td>57</td>\n",
       "      <td>0</td>\n",
       "      <td>0</td>\n",
       "      <td>120</td>\n",
       "      <td>354</td>\n",
       "      <td>0</td>\n",
       "      <td>1</td>\n",
       "      <td>163</td>\n",
       "      <td>1</td>\n",
       "      <td>0.6</td>\n",
       "      <td>2</td>\n",
       "      <td>0</td>\n",
       "      <td>2</td>\n",
       "    </tr>\n",
       "    <tr>\n",
       "      <th>...</th>\n",
       "      <td>...</td>\n",
       "      <td>...</td>\n",
       "      <td>...</td>\n",
       "      <td>...</td>\n",
       "      <td>...</td>\n",
       "      <td>...</td>\n",
       "      <td>...</td>\n",
       "      <td>...</td>\n",
       "      <td>...</td>\n",
       "      <td>...</td>\n",
       "      <td>...</td>\n",
       "      <td>...</td>\n",
       "      <td>...</td>\n",
       "    </tr>\n",
       "    <tr>\n",
       "      <th>298</th>\n",
       "      <td>57</td>\n",
       "      <td>0</td>\n",
       "      <td>0</td>\n",
       "      <td>140</td>\n",
       "      <td>241</td>\n",
       "      <td>0</td>\n",
       "      <td>1</td>\n",
       "      <td>123</td>\n",
       "      <td>1</td>\n",
       "      <td>0.2</td>\n",
       "      <td>1</td>\n",
       "      <td>0</td>\n",
       "      <td>3</td>\n",
       "    </tr>\n",
       "    <tr>\n",
       "      <th>299</th>\n",
       "      <td>45</td>\n",
       "      <td>1</td>\n",
       "      <td>3</td>\n",
       "      <td>110</td>\n",
       "      <td>264</td>\n",
       "      <td>0</td>\n",
       "      <td>1</td>\n",
       "      <td>132</td>\n",
       "      <td>0</td>\n",
       "      <td>1.2</td>\n",
       "      <td>1</td>\n",
       "      <td>0</td>\n",
       "      <td>3</td>\n",
       "    </tr>\n",
       "    <tr>\n",
       "      <th>300</th>\n",
       "      <td>68</td>\n",
       "      <td>1</td>\n",
       "      <td>0</td>\n",
       "      <td>144</td>\n",
       "      <td>193</td>\n",
       "      <td>1</td>\n",
       "      <td>1</td>\n",
       "      <td>141</td>\n",
       "      <td>0</td>\n",
       "      <td>3.4</td>\n",
       "      <td>1</td>\n",
       "      <td>2</td>\n",
       "      <td>3</td>\n",
       "    </tr>\n",
       "    <tr>\n",
       "      <th>301</th>\n",
       "      <td>57</td>\n",
       "      <td>1</td>\n",
       "      <td>0</td>\n",
       "      <td>130</td>\n",
       "      <td>131</td>\n",
       "      <td>0</td>\n",
       "      <td>1</td>\n",
       "      <td>115</td>\n",
       "      <td>1</td>\n",
       "      <td>1.2</td>\n",
       "      <td>1</td>\n",
       "      <td>1</td>\n",
       "      <td>3</td>\n",
       "    </tr>\n",
       "    <tr>\n",
       "      <th>302</th>\n",
       "      <td>57</td>\n",
       "      <td>0</td>\n",
       "      <td>1</td>\n",
       "      <td>130</td>\n",
       "      <td>236</td>\n",
       "      <td>0</td>\n",
       "      <td>0</td>\n",
       "      <td>174</td>\n",
       "      <td>0</td>\n",
       "      <td>0.0</td>\n",
       "      <td>1</td>\n",
       "      <td>1</td>\n",
       "      <td>2</td>\n",
       "    </tr>\n",
       "  </tbody>\n",
       "</table>\n",
       "<p>303 rows × 13 columns</p>\n",
       "</div>"
      ],
      "text/plain": [
       "     age  sex  cp  trestbps  chol  fbs  restecg  thalach  exang  oldpeak  \\\n",
       "0     63    1   3       145   233    1        0      150      0      2.3   \n",
       "1     37    1   2       130   250    0        1      187      0      3.5   \n",
       "2     41    0   1       130   204    0        0      172      0      1.4   \n",
       "3     56    1   1       120   236    0        1      178      0      0.8   \n",
       "4     57    0   0       120   354    0        1      163      1      0.6   \n",
       "..   ...  ...  ..       ...   ...  ...      ...      ...    ...      ...   \n",
       "298   57    0   0       140   241    0        1      123      1      0.2   \n",
       "299   45    1   3       110   264    0        1      132      0      1.2   \n",
       "300   68    1   0       144   193    1        1      141      0      3.4   \n",
       "301   57    1   0       130   131    0        1      115      1      1.2   \n",
       "302   57    0   1       130   236    0        0      174      0      0.0   \n",
       "\n",
       "     slope  ca  thal  \n",
       "0        0   0     1  \n",
       "1        0   0     2  \n",
       "2        2   0     2  \n",
       "3        2   0     2  \n",
       "4        2   0     2  \n",
       "..     ...  ..   ...  \n",
       "298      1   0     3  \n",
       "299      1   0     3  \n",
       "300      1   2     3  \n",
       "301      1   1     3  \n",
       "302      1   1     2  \n",
       "\n",
       "[303 rows x 13 columns]"
      ]
     },
     "execution_count": 27,
     "metadata": {},
     "output_type": "execute_result"
    }
   ],
   "source": [
    "#Test to make sure X does not include target column\n",
    "X"
   ]
  },
  {
   "cell_type": "code",
   "execution_count": 28,
   "metadata": {},
   "outputs": [
    {
     "data": {
      "text/plain": [
       "0      1\n",
       "1      1\n",
       "2      1\n",
       "3      1\n",
       "4      1\n",
       "      ..\n",
       "298    0\n",
       "299    0\n",
       "300    0\n",
       "301    0\n",
       "302    0\n",
       "Name: target, Length: 303, dtype: int64"
      ]
     },
     "execution_count": 28,
     "metadata": {},
     "output_type": "execute_result"
    }
   ],
   "source": [
    "#Check the targets of Y\n",
    "Y"
   ]
  },
  {
   "cell_type": "markdown",
   "metadata": {},
   "source": [
    "\n",
    "##### Splitting the data so 80% is used for training and 20% is used for testing"
   ]
  },
  {
   "cell_type": "code",
   "execution_count": 29,
   "metadata": {},
   "outputs": [],
   "source": [
    "#Next we will split the data for training and testing purposes\n",
    "from sklearn.model_selection import train_test_split\n",
    "X_train, X_test, Y_train, Y_test = train_test_split(X,Y,test_size=0.2) # Following a recommended split for test and training"
   ]
  },
  {
   "cell_type": "code",
   "execution_count": 30,
   "metadata": {},
   "outputs": [
    {
     "data": {
      "text/plain": [
       "(     age  sex  cp  trestbps  chol  fbs  restecg  thalach  exang  oldpeak  \\\n",
       " 182   61    0   0       130   330    0        0      169      0      0.0   \n",
       " 285   46    1   0       140   311    0        1      120      1      1.8   \n",
       " 183   58    1   2       112   230    0        0      165      0      2.5   \n",
       " 251   43    1   0       132   247    1        0      143      1      0.1   \n",
       " 205   52    1   0       128   255    0        1      161      1      0.0   \n",
       " ..   ...  ...  ..       ...   ...  ...      ...      ...    ...      ...   \n",
       " 93    54    0   1       132   288    1        0      159      1      0.0   \n",
       " 0     63    1   3       145   233    1        0      150      0      2.3   \n",
       " 110   64    0   0       180   325    0        1      154      1      0.0   \n",
       " 266   55    0   0       180   327    0        2      117      1      3.4   \n",
       " 130   54    0   2       160   201    0        1      163      0      0.0   \n",
       " \n",
       "      slope  ca  thal  \n",
       " 182      2   0     2  \n",
       " 285      1   2     3  \n",
       " 183      1   1     3  \n",
       " 251      1   4     3  \n",
       " 205      2   1     3  \n",
       " ..     ...  ..   ...  \n",
       " 93       2   1     2  \n",
       " 0        0   0     1  \n",
       " 110      2   0     2  \n",
       " 266      1   0     2  \n",
       " 130      2   1     2  \n",
       " \n",
       " [242 rows x 13 columns],\n",
       " 182    0\n",
       " 285    0\n",
       " 183    0\n",
       " 251    0\n",
       " 205    0\n",
       "       ..\n",
       " 93     1\n",
       " 0      1\n",
       " 110    1\n",
       " 266    0\n",
       " 130    1\n",
       " Name: target, Length: 242, dtype: int64)"
      ]
     },
     "execution_count": 30,
     "metadata": {},
     "output_type": "execute_result"
    }
   ],
   "source": [
    "#lets look at the training samples\n",
    "X_train,Y_train"
   ]
  },
  {
   "cell_type": "code",
   "execution_count": 31,
   "metadata": {},
   "outputs": [
    {
     "data": {
      "text/plain": [
       "(     age  sex  cp  trestbps  chol  fbs  restecg  thalach  exang  oldpeak  \\\n",
       " 16    58    0   2       120   340    0        1      172      0      0.0   \n",
       " 220   63    0   0       150   407    0        0      154      0      4.0   \n",
       " 222   65    1   3       138   282    1        0      174      0      1.4   \n",
       " 3     56    1   1       120   236    0        1      178      0      0.8   \n",
       " 74    43    0   2       122   213    0        1      165      0      0.2   \n",
       " ..   ...  ...  ..       ...   ...  ...      ...      ...    ...      ...   \n",
       " 98    43    1   2       130   315    0        1      162      0      1.9   \n",
       " 99    53    1   2       130   246    1        0      173      0      0.0   \n",
       " 204   62    0   0       160   164    0        0      145      0      6.2   \n",
       " 102   63    0   1       140   195    0        1      179      0      0.0   \n",
       " 48    53    0   2       128   216    0        0      115      0      0.0   \n",
       " \n",
       "      slope  ca  thal  \n",
       " 16       2   0     2  \n",
       " 220      1   3     3  \n",
       " 222      1   1     2  \n",
       " 3        2   0     2  \n",
       " 74       1   0     2  \n",
       " ..     ...  ..   ...  \n",
       " 98       2   1     2  \n",
       " 99       2   3     2  \n",
       " 204      0   3     3  \n",
       " 102      2   2     2  \n",
       " 48       2   0     0  \n",
       " \n",
       " [61 rows x 13 columns],\n",
       " 16     1\n",
       " 220    0\n",
       " 222    0\n",
       " 3      1\n",
       " 74     1\n",
       "       ..\n",
       " 98     1\n",
       " 99     1\n",
       " 204    0\n",
       " 102    1\n",
       " 48     1\n",
       " Name: target, Length: 61, dtype: int64)"
      ]
     },
     "execution_count": 31,
     "metadata": {},
     "output_type": "execute_result"
    }
   ],
   "source": [
    "#Lets look at the testing\n",
    "X_test, Y_test"
   ]
  },
  {
   "cell_type": "markdown",
   "metadata": {},
   "source": [
    "## Step 3: Picking the right estimator (Model)"
   ]
  },
  {
   "cell_type": "markdown",
   "metadata": {},
   "source": [
    "#### Time to pick a good estimator (model). A good resource I found is to use the scikit-learn machine learning map. https://scikit-learn.org/stable/tutorial/machine_learning_map/index.html "
   ]
  },
  {
   "cell_type": "markdown",
   "metadata": {},
   "source": [
    "###### Is size of sample less than 50? If yes, then get more data. If no, then move along the arrow."
   ]
  },
  {
   "cell_type": "code",
   "execution_count": 32,
   "metadata": {},
   "outputs": [
    {
     "data": {
      "text/plain": [
       "303"
      ]
     },
     "execution_count": 32,
     "metadata": {},
     "output_type": "execute_result"
    }
   ],
   "source": [
    "len(heart_data) # To make sure we have more than 50 data as it suggests"
   ]
  },
  {
   "cell_type": "markdown",
   "metadata": {},
   "source": [
    "###### We have more than 50 samples, and we are predicting a category. So now, we have to chose between a classification problem or clustering. Since we have labeled data, we will use the classifcation approach. Now that we have determined our problem type, we can see we have <100k samples. Therefore we will use what it recomends us,  Linear svm."
   ]
  },
  {
   "cell_type": "code",
   "execution_count": 33,
   "metadata": {},
   "outputs": [],
   "source": [
    "from sklearn import svm\n",
    "clf = svm.SVC()"
   ]
  },
  {
   "cell_type": "markdown",
   "metadata": {},
   "source": [
    "\n",
    "## Step 4: Fit the data and make a prediction"
   ]
  },
  {
   "cell_type": "markdown",
   "metadata": {},
   "source": [
    "\n",
    "###### Fitting the data"
   ]
  },
  {
   "cell_type": "code",
   "execution_count": 34,
   "metadata": {},
   "outputs": [
    {
     "data": {
      "text/plain": [
       "SVC()"
      ]
     },
     "execution_count": 34,
     "metadata": {},
     "output_type": "execute_result"
    }
   ],
   "source": [
    "clf.fit(X_train,Y_train)"
   ]
  },
  {
   "cell_type": "markdown",
   "metadata": {},
   "source": [
    "##### Predict the data\n"
   ]
  },
  {
   "cell_type": "code",
   "execution_count": 35,
   "metadata": {},
   "outputs": [],
   "source": [
    "y_probs = clf.predict(X_test)"
   ]
  },
  {
   "cell_type": "code",
   "execution_count": 36,
   "metadata": {},
   "outputs": [
    {
     "data": {
      "text/plain": [
       "array([1, 1, 1, 1, 1, 1, 1, 1, 1, 1, 1, 1, 1, 0, 0, 1, 0, 1, 1, 1, 1, 0,\n",
       "       1, 1, 0, 1, 0, 0, 1, 0, 1, 1, 0, 0, 1, 1, 1, 0, 1, 1, 1, 0, 1, 1,\n",
       "       1, 1, 0, 1, 1, 1, 0, 1, 1, 1, 0, 0, 1, 1, 1, 1, 0], dtype=int64)"
      ]
     },
     "execution_count": 36,
     "metadata": {},
     "output_type": "execute_result"
    }
   ],
   "source": [
    "y_probs #Examining the Y_probs"
   ]
  },
  {
   "cell_type": "markdown",
   "metadata": {},
   "source": [
    "\n",
    "## Step 5: Evaluate the model"
   ]
  },
  {
   "cell_type": "markdown",
   "metadata": {},
   "source": [
    "###### There are several types of metrics that can be used to test a model. I will be using accuracy to score the prediction"
   ]
  },
  {
   "cell_type": "code",
   "execution_count": 37,
   "metadata": {},
   "outputs": [
    {
     "data": {
      "text/plain": [
       "0.6721311475409836"
      ]
     },
     "execution_count": 37,
     "metadata": {},
     "output_type": "execute_result"
    }
   ],
   "source": [
    "from sklearn.metrics import accuracy_score\n",
    "accuracy_score(Y_test,y_probs)"
   ]
  },
  {
   "cell_type": "markdown",
   "metadata": {},
   "source": [
    "\n",
    "## Step 6: Improving the model"
   ]
  },
  {
   "cell_type": "markdown",
   "metadata": {},
   "source": [
    "###### One way to improve a model is by hyptertuning. Specifcally the parameters of the estimator we chose to create our model. "
   ]
  },
  {
   "cell_type": "code",
   "execution_count": 38,
   "metadata": {},
   "outputs": [
    {
     "name": "stdout",
     "output_type": "stream",
     "text": [
      "Trying model with C value 1000:\n",
      "Model accuracy on test set: 85.25%\n",
      "\n",
      "Trying model with C value 11000:\n",
      "Model accuracy on test set: 81.97%\n",
      "\n",
      "Trying model with C value 21000:\n",
      "Model accuracy on test set: 83.61%\n",
      "\n",
      "Trying model with C value 31000:\n",
      "Model accuracy on test set: 83.61%\n",
      "\n",
      "Trying model with C value 41000:\n",
      "Model accuracy on test set: 80.33%\n",
      "\n",
      "Trying model with C value 51000:\n",
      "Model accuracy on test set: 80.33%\n",
      "\n",
      "Trying model with C value 61000:\n",
      "Model accuracy on test set: 81.97%\n",
      "\n",
      "Trying model with C value 71000:\n",
      "Model accuracy on test set: 81.97%\n",
      "\n",
      "Trying model with C value 81000:\n",
      "Model accuracy on test set: 81.97%\n",
      "\n",
      "Trying model with C value 91000:\n",
      "Model accuracy on test set: 81.97%\n",
      "\n",
      "Trying model with C value 101000:\n",
      "Model accuracy on test set: 81.97%\n",
      "\n",
      "Trying model with C value 111000:\n",
      "Model accuracy on test set: 81.97%\n",
      "\n",
      "Trying model with C value 121000:\n",
      "Model accuracy on test set: 81.97%\n",
      "\n",
      "Trying model with C value 131000:\n",
      "Model accuracy on test set: 80.33%\n",
      "\n",
      "Trying model with C value 141000:\n",
      "Model accuracy on test set: 80.33%\n",
      "\n",
      "Trying model with C value 151000:\n",
      "Model accuracy on test set: 80.33%\n",
      "\n",
      "Trying model with C value 161000:\n",
      "Model accuracy on test set: 80.33%\n",
      "\n",
      "Trying model with C value 171000:\n",
      "Model accuracy on test set: 80.33%\n",
      "\n",
      "Trying model with C value 181000:\n",
      "Model accuracy on test set: 80.33%\n",
      "\n",
      "Trying model with C value 191000:\n",
      "Model accuracy on test set: 80.33%\n",
      "\n",
      "Trying model with C value 201000:\n",
      "Model accuracy on test set: 80.33%\n",
      "\n",
      "Trying model with C value 211000:\n",
      "Model accuracy on test set: 80.33%\n",
      "\n",
      "Trying model with C value 221000:\n",
      "Model accuracy on test set: 80.33%\n",
      "\n",
      "Trying model with C value 231000:\n",
      "Model accuracy on test set: 80.33%\n",
      "\n",
      "Trying model with C value 241000:\n",
      "Model accuracy on test set: 80.33%\n",
      "\n",
      "Trying model with C value 251000:\n",
      "Model accuracy on test set: 80.33%\n",
      "\n",
      "Trying model with C value 261000:\n",
      "Model accuracy on test set: 80.33%\n",
      "\n",
      "Trying model with C value 271000:\n",
      "Model accuracy on test set: 80.33%\n",
      "\n",
      "Trying model with C value 281000:\n",
      "Model accuracy on test set: 80.33%\n",
      "\n",
      "Trying model with C value 291000:\n",
      "Model accuracy on test set: 80.33%\n",
      "\n",
      "Trying model with C value 301000:\n",
      "Model accuracy on test set: 80.33%\n",
      "\n",
      "Trying model with C value 311000:\n",
      "Model accuracy on test set: 80.33%\n",
      "\n",
      "Trying model with C value 321000:\n",
      "Model accuracy on test set: 80.33%\n",
      "\n",
      "Trying model with C value 331000:\n",
      "Model accuracy on test set: 80.33%\n",
      "\n",
      "Trying model with C value 341000:\n",
      "Model accuracy on test set: 80.33%\n",
      "\n",
      "Trying model with C value 351000:\n",
      "Model accuracy on test set: 78.69%\n",
      "\n",
      "Trying model with C value 361000:\n",
      "Model accuracy on test set: 78.69%\n",
      "\n",
      "Trying model with C value 371000:\n",
      "Model accuracy on test set: 78.69%\n",
      "\n",
      "Trying model with C value 381000:\n",
      "Model accuracy on test set: 78.69%\n",
      "\n",
      "Trying model with C value 391000:\n",
      "Model accuracy on test set: 78.69%\n",
      "\n",
      "Trying model with C value 401000:\n",
      "Model accuracy on test set: 78.69%\n",
      "\n",
      "Trying model with C value 411000:\n",
      "Model accuracy on test set: 78.69%\n",
      "\n",
      "Trying model with C value 421000:\n",
      "Model accuracy on test set: 78.69%\n",
      "\n",
      "Trying model with C value 431000:\n",
      "Model accuracy on test set: 78.69%\n",
      "\n",
      "Trying model with C value 441000:\n",
      "Model accuracy on test set: 78.69%\n",
      "\n",
      "Trying model with C value 451000:\n",
      "Model accuracy on test set: 78.69%\n",
      "\n",
      "Trying model with C value 461000:\n",
      "Model accuracy on test set: 78.69%\n",
      "\n",
      "Trying model with C value 471000:\n",
      "Model accuracy on test set: 78.69%\n",
      "\n",
      "Trying model with C value 481000:\n",
      "Model accuracy on test set: 78.69%\n",
      "\n",
      "Trying model with C value 491000:\n",
      "Model accuracy on test set: 78.69%\n",
      "\n"
     ]
    }
   ],
   "source": [
    "np.random.seed(50)\n",
    "pltDict = {}\n",
    "for i in range(1000,500000,10000):\n",
    "    print(f\"Trying model with C value {i}:\")\n",
    "    clf = svm.SVC(C=i).fit(X_train, Y_train)\n",
    "    print(f\"Model accuracy on test set: {clf.score(X_test, Y_test) * 100:.2f}%\")\n",
    "    pltDict[i]=clf.score(X_test, Y_test) * 100\n",
    "    print(\"\")"
   ]
  },
  {
   "cell_type": "code",
   "execution_count": 39,
   "metadata": {},
   "outputs": [
    {
     "data": {
      "text/plain": [
       "{1000: 85.24590163934425,\n",
       " 11000: 81.9672131147541,\n",
       " 21000: 83.60655737704919,\n",
       " 31000: 83.60655737704919,\n",
       " 41000: 80.32786885245902,\n",
       " 51000: 80.32786885245902,\n",
       " 61000: 81.9672131147541,\n",
       " 71000: 81.9672131147541,\n",
       " 81000: 81.9672131147541,\n",
       " 91000: 81.9672131147541,\n",
       " 101000: 81.9672131147541,\n",
       " 111000: 81.9672131147541,\n",
       " 121000: 81.9672131147541,\n",
       " 131000: 80.32786885245902,\n",
       " 141000: 80.32786885245902,\n",
       " 151000: 80.32786885245902,\n",
       " 161000: 80.32786885245902,\n",
       " 171000: 80.32786885245902,\n",
       " 181000: 80.32786885245902,\n",
       " 191000: 80.32786885245902,\n",
       " 201000: 80.32786885245902,\n",
       " 211000: 80.32786885245902,\n",
       " 221000: 80.32786885245902,\n",
       " 231000: 80.32786885245902,\n",
       " 241000: 80.32786885245902,\n",
       " 251000: 80.32786885245902,\n",
       " 261000: 80.32786885245902,\n",
       " 271000: 80.32786885245902,\n",
       " 281000: 80.32786885245902,\n",
       " 291000: 80.32786885245902,\n",
       " 301000: 80.32786885245902,\n",
       " 311000: 80.32786885245902,\n",
       " 321000: 80.32786885245902,\n",
       " 331000: 80.32786885245902,\n",
       " 341000: 80.32786885245902,\n",
       " 351000: 78.68852459016394,\n",
       " 361000: 78.68852459016394,\n",
       " 371000: 78.68852459016394,\n",
       " 381000: 78.68852459016394,\n",
       " 391000: 78.68852459016394,\n",
       " 401000: 78.68852459016394,\n",
       " 411000: 78.68852459016394,\n",
       " 421000: 78.68852459016394,\n",
       " 431000: 78.68852459016394,\n",
       " 441000: 78.68852459016394,\n",
       " 451000: 78.68852459016394,\n",
       " 461000: 78.68852459016394,\n",
       " 471000: 78.68852459016394,\n",
       " 481000: 78.68852459016394,\n",
       " 491000: 78.68852459016394}"
      ]
     },
     "execution_count": 39,
     "metadata": {},
     "output_type": "execute_result"
    }
   ],
   "source": [
    "#View dictionary to confirm if the percentages match up\n",
    "pltDict"
   ]
  },
  {
   "cell_type": "markdown",
   "metadata": {},
   "source": [
    "## Step 7: Presenting results visually"
   ]
  },
  {
   "cell_type": "markdown",
   "metadata": {},
   "source": [
    "\n",
    "###### Here I will be using Matplotlib's pyplot to graph the hypertuning param values to see which one gave us the best accuracy"
   ]
  },
  {
   "cell_type": "code",
   "execution_count": 45,
   "metadata": {},
   "outputs": [
    {
     "data": {
      "image/png": "[encoded data removed]",
      "text/plain": [
       "<Figure size 1440x720 with 1 Axes>"
      ]
     },
     "metadata": {
      "needs_background": "light"
     },
     "output_type": "display_data"
    }
   ],
   "source": [
    "#PLot the data to see which yields in the highest accuracy \n",
    "Xaxis = list(pltDict.keys())\n",
    "Yaxis = list(pltDict.values())\n",
    "fig,ax= plt.subplots(figsize=(20,10))\n",
    "ax.plot(Xaxis,Yaxis)\n",
    "ax.set(title=\"Change in C vs Accuracy\", xlabel=\"C value\", ylabel=\"Accuracy\");\n",
    "print(f\"Max C value: {max(stats, key=stats.get)}\")\n",
    "print(f\"Min C value: {min(Xaxis)}, gives accuracy of {min(Yaxis)}\")"
   ]
  },
  {
   "cell_type": "markdown",
   "metadata": {},
   "source": [
    "\n",
    "## Step 8: Make observations"
   ]
  },
  {
   "cell_type": "markdown",
   "metadata": {},
   "source": [
    "######  We will want to see if the accuracy is worth giving up the performance"
   ]
  },
  {
   "cell_type": "code",
   "execution_count": 41,
   "metadata": {},
   "outputs": [
    {
     "name": "stdout",
     "output_type": "stream",
     "text": [
      "3.54 µs ± 52.5 ns per loop (mean ± std. dev. of 7 runs, 100000 loops each)\n",
      "3.55 µs ± 43.5 ns per loop (mean ± std. dev. of 7 runs, 100000 loops each)\n"
     ]
    },
    {
     "data": {
      "text/plain": [
       "(None, None)"
      ]
     },
     "execution_count": 41,
     "metadata": {},
     "output_type": "execute_result"
    }
   ],
   "source": [
    "C_1000  = %timeit svm.SVC(C=1000)\n",
    "C_491000 = %timeit svm.SVC(C=491000)\n",
    "C_1000,C_491000"
   ]
  },
  {
   "cell_type": "markdown",
   "metadata": {},
   "source": [
    "###### Conclusion: \n",
    "* Performance remains the same with the adjustment of C value because the Big-O is constant. The iterations of loops does not change.\n",
    "* The bigger the C value does not always correlate to better accuracy. \n",
    "* You have to find the right paramter that will tweek it just enough to increase it to its best accuracy. "
   ]
  },
  {
   "cell_type": "markdown",
   "metadata": {},
   "source": [
    "## Step 9: Recreate with the best model & hyperturning parameters"
   ]
  },
  {
   "cell_type": "code",
   "execution_count": 46,
   "metadata": {},
   "outputs": [
    {
     "data": {
      "text/plain": [
       "85.24590163934425"
      ]
     },
     "execution_count": 46,
     "metadata": {},
     "output_type": "execute_result"
    }
   ],
   "source": [
    "clf = svm.SVC(C=max(pltDict, key=pltDict.get))\n",
    "clf.fit(X_train,Y_train)\n",
    "y_probs = clf.predict(X_test)\n",
    "clf.score(X_test, Y_test) * 100"
   ]
  },
  {
   "cell_type": "markdown",
   "metadata": {},
   "source": [
    "## Step 10: Save and load the model"
   ]
  },
  {
   "cell_type": "code",
   "execution_count": 43,
   "metadata": {},
   "outputs": [
    {
     "data": {
      "text/plain": [
       "78.68852459016394"
      ]
     },
     "execution_count": 43,
     "metadata": {},
     "output_type": "execute_result"
    }
   ],
   "source": [
    "import pickle\n",
    "pickle.dump(clf,open(\"Heart_disease_project.pkl\",\"wb\"))#save file\n",
    "load_pickle = pickle.load(open(\"Heart_disease_project.pkl\",\"rb\"))#load file\n",
    "load_pickle.score(X_test,Y_test)*100"
   ]
  },
  {
   "cell_type": "code",
   "execution_count": 44,
   "metadata": {},
   "outputs": [
    {
     "data": {
      "text/plain": [
       "(array([1, 0, 1, 1, 1, 1, 1, 0, 1, 1, 1, 0, 1, 0, 0, 0, 0, 1, 1, 0, 0, 0,\n",
       "        1, 1, 0, 1, 0, 0, 1, 0, 1, 1, 0, 0, 1, 0, 0, 0, 0, 1, 0, 0, 1, 1,\n",
       "        1, 1, 1, 1, 1, 1, 0, 1, 0, 0, 1, 0, 1, 1, 0, 0, 1], dtype=int64),\n",
       " array([1, 0, 0, 1, 1, 1, 1, 1, 1, 1, 1, 0, 1, 1, 1, 0, 0, 1, 1, 0, 1, 1,\n",
       "        0, 1, 0, 0, 0, 0, 1, 0, 1, 0, 0, 0, 1, 1, 0, 0, 0, 1, 0, 0, 1, 1,\n",
       "        1, 1, 1, 1, 1, 1, 0, 1, 0, 0, 0, 1, 1, 1, 0, 1, 1], dtype=int64))"
      ]
     },
     "execution_count": 44,
     "metadata": {},
     "output_type": "execute_result"
    }
   ],
   "source": [
    "#Now just to make sure it truly works lets compare the results with its true target\n",
    "clf.predict(X_test),np.array(Y_test)"
   ]
  }
 ],
 "metadata": {
  "kernelspec": {
   "display_name": "Python 3",
   "language": "python",
   "name": "python3"
  },
  "language_info": {
   "codemirror_mode": {
    "name": "ipython",
    "version": 3
   },
   "file_extension": ".py",
   "mimetype": "text/x-python",
   "name": "python",
   "nbconvert_exporter": "python",
   "pygments_lexer": "ipython3",
   "version": "3.8.3"
  }
 },
 "nbformat": 4,
 "nbformat_minor": 4
}
